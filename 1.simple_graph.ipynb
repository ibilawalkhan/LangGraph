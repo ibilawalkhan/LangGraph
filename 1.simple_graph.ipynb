{
 "cells": [
  {
   "cell_type": "code",
   "execution_count": 2,
   "id": "aed97ecd",
   "metadata": {},
   "outputs": [],
   "source": [
    "from typing import TypedDict\n",
    "\n",
    "class PortfolioState(TypedDict):\n",
    "    amount_usd: float\n",
    "    total_usd: float\n",
    "    total_rs: float"
   ]
  },
  {
   "cell_type": "code",
   "execution_count": 3,
   "id": "692a3dfa",
   "metadata": {},
   "outputs": [],
   "source": [
    "def calc_total(state: PortfolioState) -> PortfolioState:\n",
    "    state['total_usd'] = state['amount_usd'] * 82.0\n",
    "    return state\n",
    "\n",
    "def convert_to_rs(state: PortfolioState) -> PortfolioState:\n",
    "    state['total_rs'] = state['total_usd'] * 75.0\n",
    "    return state"
   ]
  },
  {
   "cell_type": "code",
   "execution_count": 4,
   "id": "e66d851d",
   "metadata": {},
   "outputs": [],
   "source": [
    "from langgraph.graph import StateGraph, START, END\n",
    "\n",
    "builder = StateGraph(PortfolioState)\n",
    "\n",
    "builder.add_node(\"calc_total_node\", calc_total)\n",
    "builder.add_node(\"convert_to_rs_node\", convert_to_rs)\n",
    "\n",
    "builder.add_edge(START, \"calc_total_node\")\n",
    "builder.add_edge(\"calc_total_node\", \"convert_to_rs_node\")\n",
    "builder.add_edge(\"convert_to_rs_node\", END)\n",
    "\n",
    "graph = builder.compile()"
   ]
  },
  {
   "cell_type": "code",
   "execution_count": 6,
   "id": "26da35e3",
   "metadata": {},
   "outputs": [
    {
     "name": "stdout",
     "output_type": "stream",
     "text": [
      "    +-----------+      \n",
      "    | __start__ |      \n",
      "    +-----------+      \n",
      "           *           \n",
      "           *           \n",
      "           *           \n",
      "  +-----------------+  \n",
      "  | calc_total_node |  \n",
      "  +-----------------+  \n",
      "           *           \n",
      "           *           \n",
      "           *           \n",
      "+--------------------+ \n",
      "| convert_to_rs_node | \n",
      "+--------------------+ \n",
      "           *           \n",
      "           *           \n",
      "           *           \n",
      "      +---------+      \n",
      "      | __end__ |      \n",
      "      +---------+      \n"
     ]
    },
    {
     "data": {
      "text/plain": [
       "None"
      ]
     },
     "metadata": {},
     "output_type": "display_data"
    }
   ],
   "source": [
    "from IPython.display import Image, display\n",
    "\n",
    "display(graph.get_graph().print_ascii())"
   ]
  },
  {
   "cell_type": "code",
   "execution_count": null,
   "id": "ec50d63c",
   "metadata": {},
   "outputs": [
    {
     "data": {
      "text/plain": [
       "{'amount_usd': 100000, 'total_usd': 8200000.0, 'total_rs': 615000000.0}"
      ]
     },
     "execution_count": 15,
     "metadata": {},
     "output_type": "execute_result"
    }
   ],
   "source": [
    "graph.invoke({\"amount_usd\": 100000})"
   ]
  }
 ],
 "metadata": {
  "kernelspec": {
   "display_name": "Python 3",
   "language": "python",
   "name": "python3"
  },
  "language_info": {
   "codemirror_mode": {
    "name": "ipython",
    "version": 3
   },
   "file_extension": ".py",
   "mimetype": "text/x-python",
   "name": "python",
   "nbconvert_exporter": "python",
   "pygments_lexer": "ipython3",
   "version": "3.13.7"
  }
 },
 "nbformat": 4,
 "nbformat_minor": 5
}
