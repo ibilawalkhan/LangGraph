{
 "cells": [
  {
   "cell_type": "code",
   "execution_count": null,
   "id": "08a805e1",
   "metadata": {},
   "outputs": [],
   "source": [
    "from dotenv import load_dotenv\n",
    "\n",
    "load_dotenv()"
   ]
  }
 ],
 "metadata": {
  "language_info": {
   "name": "python"
  }
 },
 "nbformat": 4,
 "nbformat_minor": 5
}
