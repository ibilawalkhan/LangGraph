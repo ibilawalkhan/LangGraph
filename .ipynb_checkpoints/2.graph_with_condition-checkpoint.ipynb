{
 "cells": [
  {
   "cell_type": "code",
   "execution_count": 2,
   "id": "a151b9eb",
   "metadata": {},
   "outputs": [],
   "source": [
    "from typing import TypedDict, Literal\n",
    "\n",
    "class PortfolioState(TypedDict):\n",
    "    amount_usd: float\n",
    "    total_usd: float\n",
    "    target_currency: Literal[\"RS\", \"EUR\"]\n",
    "    total: float"
   ]
  },
  {
   "cell_type": "code",
   "execution_count": 4,
   "id": "a14feda0",
   "metadata": {},
   "outputs": [],
   "source": [
    "def calc_total(state: PortfolioState) -> PortfolioState:\n",
    "    state['total_usd'] = state['amount_usd'] * 1.08\n",
    "    return state\n",
    "\n",
    "def convert_to_rs(state:PortfolioState) -> PortfolioState:\n",
    "    state['total'] = state['total_usd'] * 85\n",
    "    return state\n",
    "\n",
    "def convert_to_eur(state:PortfolioState) -> PortfolioState:\n",
    "    state['total'] = state['total_usd'] * 0.9\n",
    "    return state\n",
    "\n",
    "def choose_conversion(state:PortfolioState) -> str:\n",
    "    return state['target_currency']"
   ]
  },
  {
   "cell_type": "code",
   "execution_count": 10,
   "id": "b4f34bd8",
   "metadata": {},
   "outputs": [],
   "source": [
    "from langgraph.graph import StateGraph, START, END \n",
    "\n",
    "builder = StateGraph(PortfolioState)\n",
    "\n",
    "builder.add_node(\"calc_total_node\", calc_total)\n",
    "builder.add_node(\"convert_to_rs_node\", convert_to_rs)\n",
    "builder.add_node(\"convert_to_eur_node\", convert_to_eur)\n",
    "\n",
    "builder.add_edge(START, \"calc_total_node\")\n",
    "builder.add_conditional_edges(\n",
    "    \"calc_total_node\",\n",
    "    choose_conversion,\n",
    "    {\n",
    "        \"RS\": \"convert_to_rs_node\",\n",
    "        \"EUR\": \"convert_to_eur_node\"\n",
    "    }\n",
    ")\n",
    "builder.add_edge([\"convert_to_rs_node\", \"convert_to_eur_node\"], END)\n",
    "\n",
    "graph = builder.compile()"
   ]
  },
  {
   "cell_type": "code",
   "execution_count": 16,
   "id": "5e711bb0",
   "metadata": {},
   "outputs": [
    {
     "name": "stdout",
     "output_type": "stream",
     "text": [
      "                      +-----------+                       \n",
      "                      | __start__ |                       \n",
      "                      +-----------+                       \n",
      "                            *                             \n",
      "                            *                             \n",
      "                            *                             \n",
      "                   +-----------------+                    \n",
      "                   | calc_total_node |                    \n",
      "                   +-----------------+                    \n",
      "                   ..               ..                    \n",
      "                ...                   ...                 \n",
      "              ..                         ..               \n",
      "+---------------------+           +--------------------+  \n",
      "| convert_to_eur_node |           | convert_to_rs_node |  \n",
      "+---------------------+           +--------------------+  \n",
      "                   **               **                    \n",
      "                     ***         ***                      \n",
      "                        **     **                         \n",
      "                       +---------+                        \n",
      "                       | __end__ |                        \n",
      "                       +---------+                        \n"
     ]
    },
    {
     "data": {
      "text/plain": [
       "None"
      ]
     },
     "metadata": {},
     "output_type": "display_data"
    }
   ],
   "source": [
    "from IPython.display import display\n",
    "\n",
    "display(graph.get_graph().print_ascii())"
   ]
  },
  {
   "cell_type": "code",
   "execution_count": 20,
   "id": "4e316b40",
   "metadata": {},
   "outputs": [
    {
     "data": {
      "text/plain": [
       "{'amount_usd': 1000,\n",
       " 'total_usd': 1080.0,\n",
       " 'target_currency': 'EUR',\n",
       " 'total': 972.0}"
      ]
     },
     "execution_count": 20,
     "metadata": {},
     "output_type": "execute_result"
    }
   ],
   "source": [
    "graph.invoke({\"amount_usd\": 1000, \"target_currency\": \"EUR\"})"
   ]
  },
  {
   "cell_type": "code",
   "execution_count": null,
   "id": "a3613b5c",
   "metadata": {},
   "outputs": [],
   "source": []
  },
  {
   "cell_type": "code",
   "execution_count": null,
   "id": "9059f0c3",
   "metadata": {},
   "outputs": [],
   "source": []
  }
 ],
 "metadata": {
  "kernelspec": {
   "display_name": "Python 3",
   "language": "python",
   "name": "python3"
  },
  "language_info": {
   "codemirror_mode": {
    "name": "ipython",
    "version": 3
   },
   "file_extension": ".py",
   "mimetype": "text/x-python",
   "name": "python",
   "nbconvert_exporter": "python",
   "pygments_lexer": "ipython3",
   "version": "3.13.7"
  }
 },
 "nbformat": 4,
 "nbformat_minor": 5
}
